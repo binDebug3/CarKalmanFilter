{
 "cells": [
  {
   "cell_type": "code",
   "execution_count": null,
   "metadata": {},
   "outputs": [],
   "source": [
    "# imports"
   ]
  },
  {
   "cell_type": "markdown",
   "metadata": {},
   "source": [
    "#### TODO: Kalman Filter\n",
    "- Make a kalman filter for each column (except lat/long, time)\n",
    "    - *Make a new dataset with filtered data\n",
    "    - *Visualize the filtered data\n",
    "    - (Assignment) speed (control from acceleration?)\n",
    "    - (Assignment) bearing (control from gyroscope?)\n",
    "    - (Assignment) gyroscope (might be hard bc nonlinear?)\n",
    "    -  etc\n",
    "- (Assignment) Make a kalman filter with control for lat/long\n",
    "    - Should include control from acceleration, speed?, gyroscope, bearing?\n",
    "\n",
    "\n",
    "#### TODO: HMM / KMeans\n",
    "- (Assignment) HMM to classify road quality\n",
    "- (Assignment) HMM to classify road type\n",
    "- (Assignment) HMM to determine speed and direction from lat/long\n",
    "- (Assignment) HMM to determine direction from lat/long\n",
    "- (Assignment) HMM to predict speed limit from speed\n",
    "- (Assignment) HMM to predict temperature from speed and acceleration\n",
    "\n",
    "\n",
    "#### TODO: ARIMA\n",
    "- (Assignment) Predict the next speed and direction given previous data\n",
    "\n",
    "\n",
    "#### TODO: Other\n",
    "- (Assignment) Find another tool we can use that would be interesting but not anything remotely related to deep learing :(\n",
    "- Decide which tasks we want to tackle first\n",
    "- Decide how to divide up tasks\n",
    "- Look into uncertainty quantification\n",
    "- Try to find the data sheet for the sensors used\n",
    "- Search sensor fusion"
   ]
  }
 ],
 "metadata": {
  "language_info": {
   "name": "python"
  }
 },
 "nbformat": 4,
 "nbformat_minor": 2
}
