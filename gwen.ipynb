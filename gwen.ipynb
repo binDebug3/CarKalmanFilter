{
 "cells": [
  {
   "cell_type": "code",
   "execution_count": 6,
   "metadata": {},
   "outputs": [],
   "source": [
    "import kalman as kf\n",
    "import filter \n",
    "from matplotlib import pyplot as plt\n",
    "import numpy as np\n",
    "import pandas as pd\n",
    "import os\n",
    "import data_clean as dc "
   ]
  },
  {
   "cell_type": "code",
   "execution_count": 3,
   "metadata": {},
   "outputs": [],
   "source": [
    "#load in data\n",
    "pvss = os.listdir(\"data/\")\n",
    "gps = pd.read_csv(\"data/\"+pvss[0])\n",
    "left_gps = pd.read_csv(\"data/\"+pvss[3])\n",
    "right_gps = pd.read_csv(\"data/\"+pvss[1])\n",
    "df_labels = pd.read_csv(\"data/\"+pvss[2])"
   ]
  },
  {
   "cell_type": "code",
   "execution_count": null,
   "metadata": {},
   "outputs": [],
   "source": [
    "label_names = pd.DataFrame(columns = ['road', 'condition','quality_right', 'quality_left','bumps'])\n",
    "\n",
    "road_classes = ['dirt_road', 'cobblestone_road', 'asphalt_road']\n",
    "quality_left_classes = ['good_road_left', 'regular_road_left', 'bad_road_left']\n",
    "quality_right_classes = ['good_road_right', 'regular_road_right', 'bad_road_right']\n",
    "condition_classes = ['paved_road', 'unpaved_road']\n",
    "bump_classes=['no_speed_bump', 'speed_bump_asphalt', 'speed_bump_cobblestone']\n",
    "\n",
    "# Convert from one-hot encoding to single label encoding\n",
    "label_names = dc.ohe_to_label(df_labels, road_classes, label_names, 'road')\n",
    "label_names = dc.ohe_to_label(df_labels, quality_right_classes, label_names, 'quality_right')\n",
    "label_names = dc.ohe_to_label(df_labels, quality_left_classes, label_names, 'quality_left')\n",
    "label_names = dc.ohe_to_label(df_labels, condition_classes, label_names, 'condition')\n",
    "label_names = dc.ohe_to_label(df_labels, bump_classes, label_names, 'bumps')\n",
    "\n",
    "# Convert road quality labels to numeric values\n",
    "label_names = label_names.replace({'quality_right' : { 'good_road_right' : 2, 'regular_road_right' : 1, 'bad_road_right' : 0 }})\n",
    "label_names = label_names.replace({'quality_left' : { 'good_road_left' : 2, 'regular_road_left' : 1, 'bad_road_left' : 0 }})\n",
    "label_names['quality'] = label_names.loc[: , \"quality_right\":\"quality_left\"].mean(axis=1)\n",
    "label_names = label_names.drop(columns = [\"quality_right\",\"quality_left\"], axis = 1)\n",
    "\n",
    "label_names.head()"
   ]
  },
  {
   "cell_type": "code",
   "execution_count": null,
   "metadata": {},
   "outputs": [],
   "source": [
    "gps = dc.clean_gps(gps)\n",
    "left_gps = dc.clean_acc(left_gps)\n",
    "right_gps = dc.clean_acc(right_gps)"
   ]
  },
  {
   "cell_type": "code",
   "execution_count": 5,
   "metadata": {},
   "outputs": [
    {
     "name": "stdout",
     "output_type": "stream",
     "text": [
      "         timestamp   latitude  longitude   elevation  accuracy    bearing  \\\n",
      "0     1.577219e+09 -27.717812 -51.098895  948.770836      24.0  159.73294   \n",
      "1     1.577219e+09 -27.717818 -51.098840  970.378820      12.0        NaN   \n",
      "2     1.577219e+09 -27.717832 -51.098871  989.374267       4.0        NaN   \n",
      "3     1.577219e+09 -27.717833 -51.098867  988.439139       4.0        NaN   \n",
      "4     1.577219e+09 -27.717835 -51.098873  987.668730       4.0        NaN   \n",
      "...            ...        ...        ...         ...       ...        ...   \n",
      "1462  1.577220e+09 -27.717778 -51.099069  980.865571       4.0  130.51640   \n",
      "1463  1.577220e+09 -27.717773 -51.099072  981.469505       6.0  130.51602   \n",
      "1464  1.577220e+09 -27.717773 -51.099078  979.980588       6.0  194.52164   \n",
      "1465  1.577220e+09 -27.717777 -51.099073  979.903556       6.0  195.58694   \n",
      "1466  1.577220e+09 -27.717777 -51.099070  979.779629       6.0  195.58623   \n",
      "\n",
      "      speed_meters_per_second  satellites provider  hdop  vdop  pdop  \\\n",
      "0                    0.053275           0      gps   0.8   1.7   1.9   \n",
      "1                    0.000000          12      gps   0.8   1.5   1.7   \n",
      "2                    0.000000          13      gps   0.8   1.6   1.8   \n",
      "3                    0.000000          14      gps   0.8   1.7   1.9   \n",
      "4                    0.000000          14      gps   0.8   1.6   1.8   \n",
      "...                       ...         ...      ...   ...   ...   ...   \n",
      "1462                 0.017391          16      gps   0.8   1.3   1.5   \n",
      "1463                 0.033592          16      gps   0.8   1.3   1.5   \n",
      "1464                 0.761983          16      gps   0.9   1.3   1.5   \n",
      "1465                 0.054153          16      gps   0.8   1.3   1.5   \n",
      "1466                 0.005715          16      gps   0.8   1.3   1.5   \n",
      "\n",
      "      geoidheight  ageofdgpsdata  dgpsid  activity  battery  annotation  \\\n",
      "0             3.6            NaN     NaN       NaN       87         NaN   \n",
      "1             3.6            NaN     NaN       NaN       87         NaN   \n",
      "2             3.6            NaN     NaN       NaN       86         NaN   \n",
      "3             3.6            NaN     NaN       NaN       86         NaN   \n",
      "4             3.6            NaN     NaN       NaN       86         NaN   \n",
      "...           ...            ...     ...       ...      ...         ...   \n",
      "1462          3.6            NaN     NaN       NaN       81         NaN   \n",
      "1463          3.6            NaN     NaN       NaN       81         NaN   \n",
      "1464          3.6            NaN     NaN       NaN       81         NaN   \n",
      "1465          3.6            NaN     NaN       NaN       81         NaN   \n",
      "1466          3.6            NaN     NaN       NaN       81         NaN   \n",
      "\n",
      "      distance_meters  elapsed_time_seconds  \n",
      "0            0.000000                   0.0  \n",
      "1            5.442520                   2.0  \n",
      "2            3.404871                   5.0  \n",
      "3            0.421733                   1.0  \n",
      "4            0.574281                   1.0  \n",
      "...               ...                   ...  \n",
      "1462         0.176010                   1.0  \n",
      "1463         0.644347                   1.0  \n",
      "1464         0.614420                   1.0  \n",
      "1465         0.645030                   1.0  \n",
      "1466         0.301293                   1.0  \n",
      "\n",
      "[1467 rows x 20 columns]\n"
     ]
    }
   ],
   "source": [
    "print(gps)"
   ]
  },
  {
   "cell_type": "code",
   "execution_count": null,
   "metadata": {},
   "outputs": [],
   "source": [
    "sep = 100\n",
    "end = 20000\n",
    "\n",
    "left_x = left_gps[\"acc_x_above\"][:end][::sep]\n",
    "right_x = right_gps[\"acc_x_above\"][:end][::sep]\n",
    " \n",
    "Q = 100*np.eye(4)   #100 represents our time step \n",
    "R = 5000*np.eye(2)\n",
    "\n",
    "# state vector = [sx, sy, Vx, Vy] "
   ]
  }
 ],
 "metadata": {
  "kernelspec": {
   "display_name": "Python 3",
   "language": "python",
   "name": "python3"
  },
  "language_info": {
   "codemirror_mode": {
    "name": "ipython",
    "version": 3
   },
   "file_extension": ".py",
   "mimetype": "text/x-python",
   "name": "python",
   "nbconvert_exporter": "python",
   "pygments_lexer": "ipython3",
   "version": "3.10.13"
  },
  "orig_nbformat": 4
 },
 "nbformat": 4,
 "nbformat_minor": 2
}
