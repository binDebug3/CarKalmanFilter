{
 "cells": [
  {
   "cell_type": "code",
   "execution_count": 50,
   "metadata": {},
   "outputs": [],
   "source": [
    "# imports\n",
    "from matplotlib import pyplot as plt\n",
    "import pandas as pd\n",
    "from hmmlearn import hmm\n",
    "import numpy as np\n",
    "import sys\n",
    "import time\n",
    "sys.path.insert(1, '/mnt/c/Users/dalli/source/acme_senior/_projectV3/CarKalmanFilter/')\n",
    "\n",
    "\n",
    "import cleaner\n",
    "import filter\n",
    "\n",
    "wsl = True"
   ]
  },
  {
   "cell_type": "markdown",
   "metadata": {},
   "source": [
    "The following tables and images are from https://www.kaggle.com/code/jefmenegazzo/road-surface-type-classification"
   ]
  },
  {
   "cell_type": "markdown",
   "metadata": {},
   "source": [
    "| Hardware       | Sensor         | Data                                 | Sampling Rate |\n",
    "|----------------|----------------|--------------------------------------|---------------|\n",
    "| HP Webcam HD-4110 | Camera      | 720p Video                           | 30 Hz         |\n",
    "| Xiaomi Mi 8       | GPS         | Speed in m/s, latitude, longitude, etc. | 1 Hz       |\n",
    "| MPU-9250          | Accelerometer | 3-axis acceleration in m/s²         | 100 Hz        |\n",
    "| MPU-9250          | Gyroscope    | 3-axis rotation rate in deg/s        | 100 Hz        |\n",
    "| MPU-9250          | Magnetometer | 3-axis ambient geomagnetic field in µT | 100 Hz       |\n",
    "| MPU-9250          | Temperature  | Sensor temperature in ◦C              | 100 Hz       |"
   ]
  },
  {
   "cell_type": "markdown",
   "metadata": {},
   "source": [
    "| DataSet | Vehicle              | Driver   | Scenario  | Distance |\n",
    "|---------|----------------------|----------|-----------|----------|\n",
    "| PVS 1   | Volkswagen Saveiro   | Driver 1 | Scenario 1| 13.81 km |\n",
    "| PVS 2   | Volkswagen Saveiro   | Driver 1 | Scenario 2| 11.62 km |\n",
    "| PVS 3   | Volkswagen Saveiro   | Driver 1 | Scenario 3| 10.72 km |\n",
    "| PVS 4   | Fiat Bravo           | Driver 2 | Scenario 1| 13.81 km |\n",
    "| PVS 5   | Fiat Bravo           | Driver 2 | Scenario 2| 11.63 km |\n",
    "| PVS 6   | Fiat Bravo           | Driver 2 | Scenario 3| 10.73 km |\n",
    "| PVS 7   | Fiat Palio           | Driver 3 | Scenario 1| 13.78 km |\n",
    "| PVS 8   | Fiat Palio           | Driver 3 | Scenario 2| 11.63 km |\n",
    "| PVS 9   | Fiat Palio           | Driver 3 | Scenario 3| 10.74 km |"
   ]
  },
  {
   "cell_type": "markdown",
   "metadata": {},
   "source": [
    "| File                   | Description                                                                                       |\n",
    "|------------------------|---------------------------------------------------------------------------------------------------|\n",
    "| dataset_gps.csv        | GPS data, including latitude, longitude, altitude, speed, accuracy, etc.                         |\n",
    "| dataset_gps_mpu_left.csv  | Inertial sensor data on the left side of the vehicle, combined with GPS data.                     |\n",
    "| dataset_gps_mpu_right.csv | Inertial sensor data on the right side of the vehicle, combined with GPS data.                    |\n",
    "| dataset_labels.csv       | Data classes for each sample data in the dataset (for both sides).                                  |\n",
    "| dataset_mpu_left.csv     | Inertial sensor data on the left side of the vehicle.                                              |\n",
    "| dataset_mpu_right.csv    | Inertial sensor data on the right side of the vehicle.                                             |"
   ]
  },
  {
   "cell_type": "markdown",
   "metadata": {},
   "source": [
    "![Map of paths](./maps.png \"All paths driven by the three drivers.\")\n"
   ]
  },
  {
   "cell_type": "code",
   "execution_count": 51,
   "metadata": {},
   "outputs": [],
   "source": [
    "if wsl:\n",
    "    parent = '/mnt/c/Users/dalli/source/acme_senior/_projectV3/CarKalmanFilter/.data'\n",
    "else:\n",
    "    parent = \".data\"\n",
    "data_dict = cleaner.clean_dict(cleaner.load_data(parent, exclude_test=[\"PVS 7\", \"PVS 8\"], exclude_val=[\"PVS 9\"]))"
   ]
  },
  {
   "cell_type": "code",
   "execution_count": 52,
   "metadata": {},
   "outputs": [
    {
     "name": "stdout",
     "output_type": "stream",
     "text": [
      "\n",
      "  train: \n",
      " \t t_gps: \n",
      " \t\t PVS 1: (1458, 11)\n",
      " \t\t PVS 2: (1551, 11)\n",
      " \t\t PVS 3: (1316, 11)\n",
      " \t\t PVS 4: (1432, 11)\n",
      " \t\t PVS 5: (1263, 11)\n",
      " \t\t PVS 6: (915, 11)\n",
      " \t gps_mpu_left: \n",
      " \t\t PVS 1: (144036, 26)\n",
      " \t\t PVS 2: (124684, 26)\n",
      " \t\t PVS 3: (105816, 26)\n",
      " \t\t PVS 4: (132492, 26)\n",
      " \t\t PVS 5: (133877, 26)\n",
      " \t\t PVS 6: (96279, 26)\n",
      " \t gps_mpu_right: \n",
      " \t\t PVS 1: (144036, 26)\n",
      " \t\t PVS 2: (124684, 26)\n",
      " \t\t PVS 3: (105816, 26)\n",
      " \t\t PVS 4: (132492, 26)\n",
      " \t\t PVS 5: (133877, 26)\n",
      " \t\t PVS 6: (96279, 26)\n",
      " \t labels: \n",
      " \t\t PVS 1: (144036, 14)\n",
      " \t\t PVS 2: (124684, 14)\n",
      " \t\t PVS 3: (105816, 14)\n",
      " \t\t PVS 4: (132492, 14)\n",
      " \t\t PVS 5: (133877, 14)\n",
      " \t\t PVS 6: (96279, 14)\n",
      " \t folders: 6\n",
      "  val: \n",
      " \t t_gps: \n",
      " \t\t PVS 9: (999, 11)\n",
      " \t gps_mpu_left: \n",
      " \t\t PVS 9: (91555, 26)\n",
      " \t gps_mpu_right: \n",
      " \t\t PVS 9: (91555, 26)\n",
      " \t labels: \n",
      " \t\t PVS 9: (91555, 14)\n",
      " \t folders: 1\n",
      "  test: \n",
      " \t t_gps: \n",
      " \t\t PVS 7: (1281, 11)\n",
      " \t\t PVS 8: (1134, 11)\n",
      " \t gps_mpu_left: \n",
      " \t\t PVS 7: (128548, 26)\n",
      " \t\t PVS 8: (123618, 26)\n",
      " \t gps_mpu_right: \n",
      " \t\t PVS 7: (128548, 26)\n",
      " \t\t PVS 8: (123618, 26)\n",
      " \t labels: \n",
      " \t\t PVS 7: (128548, 14)\n",
      " \t\t PVS 8: (123618, 14)\n",
      " \t folders: 2"
     ]
    }
   ],
   "source": [
    "cleaner.print_structure(data_dict)"
   ]
  },
  {
   "cell_type": "code",
   "execution_count": null,
   "metadata": {},
   "outputs": [],
   "source": [
    "filter.add_smoothed_cols(data_dict, window=200)"
   ]
  },
  {
   "cell_type": "code",
   "execution_count": 64,
   "metadata": {},
   "outputs": [
    {
     "data": {
      "text/html": [
       "<div>\n",
       "<style scoped>\n",
       "    .dataframe tbody tr th:only-of-type {\n",
       "        vertical-align: middle;\n",
       "    }\n",
       "\n",
       "    .dataframe tbody tr th {\n",
       "        vertical-align: top;\n",
       "    }\n",
       "\n",
       "    .dataframe thead th {\n",
       "        text-align: right;\n",
       "    }\n",
       "</style>\n",
       "<table border=\"1\" class=\"dataframe\">\n",
       "  <thead>\n",
       "    <tr style=\"text-align: right;\">\n",
       "      <th></th>\n",
       "      <th>good_road_left</th>\n",
       "      <th>regular_road_left</th>\n",
       "      <th>bad_road_left</th>\n",
       "    </tr>\n",
       "  </thead>\n",
       "  <tbody>\n",
       "    <tr>\n",
       "      <th>count</th>\n",
       "      <td>144036.000000</td>\n",
       "      <td>144036.000000</td>\n",
       "      <td>144036.000000</td>\n",
       "    </tr>\n",
       "    <tr>\n",
       "      <th>mean</th>\n",
       "      <td>0.392798</td>\n",
       "      <td>0.453387</td>\n",
       "      <td>0.153816</td>\n",
       "    </tr>\n",
       "    <tr>\n",
       "      <th>std</th>\n",
       "      <td>0.488374</td>\n",
       "      <td>0.497824</td>\n",
       "      <td>0.360773</td>\n",
       "    </tr>\n",
       "    <tr>\n",
       "      <th>min</th>\n",
       "      <td>0.000000</td>\n",
       "      <td>0.000000</td>\n",
       "      <td>0.000000</td>\n",
       "    </tr>\n",
       "    <tr>\n",
       "      <th>25%</th>\n",
       "      <td>0.000000</td>\n",
       "      <td>0.000000</td>\n",
       "      <td>0.000000</td>\n",
       "    </tr>\n",
       "    <tr>\n",
       "      <th>50%</th>\n",
       "      <td>0.000000</td>\n",
       "      <td>0.000000</td>\n",
       "      <td>0.000000</td>\n",
       "    </tr>\n",
       "    <tr>\n",
       "      <th>75%</th>\n",
       "      <td>1.000000</td>\n",
       "      <td>1.000000</td>\n",
       "      <td>0.000000</td>\n",
       "    </tr>\n",
       "    <tr>\n",
       "      <th>max</th>\n",
       "      <td>1.000000</td>\n",
       "      <td>1.000000</td>\n",
       "      <td>1.000000</td>\n",
       "    </tr>\n",
       "  </tbody>\n",
       "</table>\n",
       "</div>"
      ],
      "text/plain": [
       "       good_road_left  regular_road_left  bad_road_left\n",
       "count   144036.000000      144036.000000  144036.000000\n",
       "mean         0.392798           0.453387       0.153816\n",
       "std          0.488374           0.497824       0.360773\n",
       "min          0.000000           0.000000       0.000000\n",
       "25%          0.000000           0.000000       0.000000\n",
       "50%          0.000000           0.000000       0.000000\n",
       "75%          1.000000           1.000000       0.000000\n",
       "max          1.000000           1.000000       1.000000"
      ]
     },
     "execution_count": 64,
     "metadata": {},
     "output_type": "execute_result"
    }
   ],
   "source": [
    "data_dict[\"train\"][\"labels\"][\"PVS 1\"][[\"good_road_left\", \"regular_road_left\", \"bad_road_left\"]].describe()"
   ]
  },
  {
   "cell_type": "code",
   "execution_count": 55,
   "metadata": {},
   "outputs": [],
   "source": [
    "def build_z_dash(df, type=\"train\", road=\"good_road_left\"):\n",
    "    \"\"\"\n",
    "    Builds a 1 column dataset from the given dataframe\n",
    "\n",
    "    :param df: dataframe\n",
    "    :param type: string\n",
    "\n",
    "    :return: dataframe with only the acc_z_dash column\n",
    "    :return: list of lengths\n",
    "    \"\"\"\n",
    "    result = None\n",
    "    lengths = []\n",
    "    for folder in df[type][\"gps_mpu_right\"].keys():\n",
    "        pvsi = df[type][\"gps_mpu_right\"][folder]\n",
    "        labels = df[type][\"labels\"][folder][road]\n",
    "        indices = labels[labels == 1].index\n",
    "\n",
    "        new_data = pvsi[\"acc_z_dash\"].loc[indices] + pvsi[\"acc_z_dash_smooth\"].loc[indices]\n",
    "        lengths.append(len(new_data))\n",
    "\n",
    "        if result is None:\n",
    "            result = new_data\n",
    "        else:\n",
    "            # append on the same column\n",
    "            result = pd.concat([result, new_data], axis=0)\n",
    "\n",
    "    return result, lengths\n",
    "\n",
    "\n",
    "train_dict = {\n",
    "    \"good\": build_z_dash(data_dict, type=\"train\", road=\"good_road_left\"),\n",
    "    \"regular\": build_z_dash(data_dict, type=\"train\", road=\"regular_road_left\"),\n",
    "    \"bad\": build_z_dash(data_dict, type=\"train\", road=\"bad_road_left\")\n",
    "}\n",
    "\n",
    "test_dict = {\n",
    "    \"good\": build_z_dash(data_dict, type=\"test\", road=\"good_road_left\"),\n",
    "    \"regular\": build_z_dash(data_dict, type=\"test\", road=\"regular_road_left\"),\n",
    "    \"bad\": build_z_dash(data_dict, type=\"test\", road=\"bad_road_left\")\n",
    "}"
   ]
  },
  {
   "cell_type": "markdown",
   "metadata": {},
   "source": [
    "# HMM\n",
    "\n",
    "I got it to run (it turns out that you can only include one series as your input data) but it doesn't work. I think the HMM decided that zeros are local minimums or values below a threshold and pretty much everything else is ones."
   ]
  },
  {
   "cell_type": "code",
   "execution_count": 56,
   "metadata": {},
   "outputs": [
    {
     "name": "stdout",
     "output_type": "stream",
     "text": [
      "\n",
      "Training for good: 0, 1, 2, \n",
      "Training for regular: 0, 1, 2, \n",
      "Training for bad: 0, 1, 2, "
     ]
    }
   ],
   "source": [
    "models = {}\n",
    "num_models = 3\n",
    "for key in train_dict.keys():\n",
    "    data, lengths = train_dict[key]\n",
    "    # make data an array\n",
    "    data = data.values.reshape(-1, 1)\n",
    "    # hmmlearn expects the data to be in a single array:\n",
    "    # To separate the sequences, it requires the length of each:\n",
    "    print(\"\\nTraining for\", key, end=\": \")\n",
    "\n",
    "    best_log = -np.inf\n",
    "    for i in range(num_models):\n",
    "        # Initialize and train the model\n",
    "        model = hmm.GMMHMM(n_components=6, covariance_type=\"diag\")\n",
    "        model.fit(data, lengths=lengths)\n",
    "        # Check the log-likelihood\n",
    "        log_likelihood = model.monitor_.history[-1]\n",
    "        if log_likelihood > best_log:\n",
    "            best_log = log_likelihood\n",
    "            best_model = model\n",
    "        print(i, end=\", \")\n",
    "    models[key] = best_model"
   ]
  },
  {
   "cell_type": "code",
   "execution_count": 59,
   "metadata": {},
   "outputs": [
    {
     "name": "stdout",
     "output_type": "stream",
     "text": [
      "Accuracy for good : 0.7272727272727273\n",
      "Accuracy for regular : 0.0\n",
      "Accuracy for bad : 1.0\n"
     ]
    }
   ],
   "source": [
    "# predicted_labels = model.predict(X)\n",
    "\n",
    "def predict(mfcc_coeffs):\n",
    "    \"\"\"\n",
    "    Predict the word from the given mfcc coefficients\n",
    "    \n",
    "    Parameters\n",
    "    ----------\n",
    "    mfcc_coeffs : ndarray of shape (M,)\n",
    "        The mfcc coefficients for the word to be predicted\n",
    "        \n",
    "    Returns\n",
    "    -------\n",
    "    word : str\n",
    "        The predicted word\n",
    "    \"\"\"\n",
    "    # find the log probability density of the given mfcc coefficients\n",
    "    log_prob = {}\n",
    "    for key in models.keys():\n",
    "        log_prob[key] = models[key].score(mfcc_coeffs)\n",
    "    \n",
    "    # return the word with the highest probability\n",
    "    return max(log_prob, key=log_prob.get)\n",
    "\n",
    "\n",
    "\n",
    "time_window = 10 # seconds\n",
    "time_window *= 1000\n",
    "for key in test_dict.keys():\n",
    "    correct = 0\n",
    "    incorrect = 0\n",
    "    test_data, _ = test_dict[key]\n",
    "\n",
    "    # iterate over test_data in groups of 10000\n",
    "    test_data = test_data.values.reshape(-1, 1)\n",
    "    for i in range(0, len(test_data), time_window):\n",
    "        item = test_data[i:i+time_window]\n",
    "        prediction = predict(item)\n",
    "        if prediction == key:\n",
    "            correct += 1\n",
    "        elif prediction == \"good\" and key == \"regular\":\n",
    "            correct += 1\n",
    "        elif prediction == \"regular\" and key == \"good\":\n",
    "            correct += 1\n",
    "        else:\n",
    "            incorrect += 1\n",
    "    \n",
    "    print(\"Accuracy for\", key, \":\", correct/(correct+incorrect))"
   ]
  },
  {
   "cell_type": "code",
   "execution_count": 58,
   "metadata": {},
   "outputs": [
    {
     "ename": "NameError",
     "evalue": "name 'predicted_labels' is not defined",
     "output_type": "error",
     "traceback": [
      "\u001b[0;31m---------------------------------------------------------------------------\u001b[0m",
      "\u001b[0;31mNameError\u001b[0m                                 Traceback (most recent call last)",
      "\u001b[0;32m/tmp/ipykernel_21503/3682354438.py\u001b[0m in \u001b[0;36m<module>\u001b[0;34m\u001b[0m\n\u001b[1;32m      1\u001b[0m \u001b[0;31m# how many times does predicted_labels switch form 0 to 1\u001b[0m\u001b[0;34m\u001b[0m\u001b[0;34m\u001b[0m\u001b[0m\n\u001b[1;32m      2\u001b[0m \u001b[0mswitches\u001b[0m \u001b[0;34m=\u001b[0m \u001b[0;36m0\u001b[0m\u001b[0;34m\u001b[0m\u001b[0;34m\u001b[0m\u001b[0m\n\u001b[0;32m----> 3\u001b[0;31m \u001b[0;32mfor\u001b[0m \u001b[0mi\u001b[0m \u001b[0;32min\u001b[0m \u001b[0mrange\u001b[0m\u001b[0;34m(\u001b[0m\u001b[0;36m1\u001b[0m\u001b[0;34m,\u001b[0m \u001b[0mlen\u001b[0m\u001b[0;34m(\u001b[0m\u001b[0mpredicted_labels\u001b[0m\u001b[0;34m)\u001b[0m\u001b[0;34m)\u001b[0m\u001b[0;34m:\u001b[0m\u001b[0;34m\u001b[0m\u001b[0;34m\u001b[0m\u001b[0m\n\u001b[0m\u001b[1;32m      4\u001b[0m     \u001b[0;32mif\u001b[0m \u001b[0mpredicted_labels\u001b[0m\u001b[0;34m[\u001b[0m\u001b[0mi\u001b[0m\u001b[0;34m]\u001b[0m \u001b[0;34m!=\u001b[0m \u001b[0mpredicted_labels\u001b[0m\u001b[0;34m[\u001b[0m\u001b[0mi\u001b[0m\u001b[0;34m-\u001b[0m\u001b[0;36m1\u001b[0m\u001b[0;34m]\u001b[0m\u001b[0;34m:\u001b[0m\u001b[0;34m\u001b[0m\u001b[0;34m\u001b[0m\u001b[0m\n\u001b[1;32m      5\u001b[0m         \u001b[0mswitches\u001b[0m \u001b[0;34m+=\u001b[0m \u001b[0;36m1\u001b[0m\u001b[0;34m\u001b[0m\u001b[0;34m\u001b[0m\u001b[0m\n",
      "\u001b[0;31mNameError\u001b[0m: name 'predicted_labels' is not defined"
     ]
    }
   ],
   "source": [
    "# how many times does predicted_labels switch form 0 to 1\n",
    "switches = 0\n",
    "for i in range(1, len(predicted_labels)):\n",
    "    if predicted_labels[i] != predicted_labels[i-1]:\n",
    "        switches += 1\n",
    "\n",
    "print(f\"Switches: {switches}\")\n",
    "print(f\"Lenght of labels: {len(predicted_labels)}\") \n",
    "print(f\"Ratio: {switches/len(predicted_labels)}\")\n",
    "\n",
    "# plot the predicted labels\n",
    "start = 20000\n",
    "end = 21000\n",
    "diff = 1000\n",
    "plt.figure(figsize=(20, 20))\n",
    "p = 1\n",
    "while p < 20:\n",
    "    plt.subplot(5, 4, max(p,1))\n",
    "    p += 1\n",
    "    start += diff\n",
    "    end += diff   \n",
    "    a = predicted_labels[start:end]\n",
    "    # count how many zeros\n",
    "    zeros = np.count_nonzero(a == 0)\n",
    "    # print(\"Zeros: \", zeros)\n",
    "    # print(\"P:\", p)\n",
    "    if zeros == 0:\n",
    "        p -= 1\n",
    "        continue\n",
    "    plt.scatter(np.arange(diff), predicted_labels[start:end])\n",
    "    plt.plot(np.arange(diff), hmm_true['paved_road'][start:end], color='red')\n",
    "    plt.plot(np.arange(diff), X[start:end, 0]-9.5, color='green')\n",
    "    plt.title(f\"Second {end/1000}, Zeros: {zeros}\")\n",
    "    # remove axis ticks\n",
    "    # plt.xticks([])\n",
    "    # plt.yticks([])\n",
    "\n",
    "# reduce space between subplots\n",
    "plt.tight_layout()\n",
    "plt.show()"
   ]
  }
 ],
 "metadata": {
  "kernelspec": {
   "display_name": "Python 3",
   "language": "python",
   "name": "python3"
  },
  "language_info": {
   "codemirror_mode": {
    "name": "ipython",
    "version": 3
   },
   "file_extension": ".py",
   "mimetype": "text/x-python",
   "name": "python",
   "nbconvert_exporter": "python",
   "pygments_lexer": "ipython3",
   "version": "3.10.12"
  }
 },
 "nbformat": 4,
 "nbformat_minor": 2
}
