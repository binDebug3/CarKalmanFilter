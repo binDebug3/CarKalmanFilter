{
 "cells": [
  {
   "cell_type": "code",
   "execution_count": 1,
   "metadata": {},
   "outputs": [],
   "source": [
    "# imports\n",
    "from matplotlib import pyplot as plt\n",
    "import numpy as np\n",
    "import pandas as pd\n",
    "import os\n",
    "\n",
    "import cleaner\n",
    "import filter"
   ]
  },
  {
   "cell_type": "markdown",
   "metadata": {},
   "source": [
    "The following tables and images are from https://www.kaggle.com/code/jefmenegazzo/road-surface-type-classification"
   ]
  },
  {
   "cell_type": "markdown",
   "metadata": {},
   "source": [
    "| Hardware       | Sensor         | Data                                 | Sampling Rate |\n",
    "|----------------|----------------|--------------------------------------|---------------|\n",
    "| HP Webcam HD-4110 | Camera      | 720p Video                           | 30 Hz         |\n",
    "| Xiaomi Mi 8       | GPS         | Speed in m/s, latitude, longitude, etc. | 1 Hz       |\n",
    "| MPU-9250          | Accelerometer | 3-axis acceleration in m/s²         | 100 Hz        |\n",
    "| MPU-9250          | Gyroscope    | 3-axis rotation rate in deg/s        | 100 Hz        |\n",
    "| MPU-9250          | Magnetometer | 3-axis ambient geomagnetic field in µT | 100 Hz       |\n",
    "| MPU-9250          | Temperature  | Sensor temperature in ◦C              | 100 Hz       |"
   ]
  },
  {
   "cell_type": "markdown",
   "metadata": {},
   "source": [
    "| DataSet | Vehicle              | Driver   | Scenario  | Distance |\n",
    "|---------|----------------------|----------|-----------|----------|\n",
    "| PVS 1   | Volkswagen Saveiro   | Driver 1 | Scenario 1| 13.81 km |\n",
    "| PVS 2   | Volkswagen Saveiro   | Driver 1 | Scenario 2| 11.62 km |\n",
    "| PVS 3   | Volkswagen Saveiro   | Driver 1 | Scenario 3| 10.72 km |\n",
    "| PVS 4   | Fiat Bravo           | Driver 2 | Scenario 1| 13.81 km |\n",
    "| PVS 5   | Fiat Bravo           | Driver 2 | Scenario 2| 11.63 km |\n",
    "| PVS 6   | Fiat Bravo           | Driver 2 | Scenario 3| 10.73 km |\n",
    "| PVS 7   | Fiat Palio           | Driver 3 | Scenario 1| 13.78 km |\n",
    "| PVS 8   | Fiat Palio           | Driver 3 | Scenario 2| 11.63 km |\n",
    "| PVS 9   | Fiat Palio           | Driver 3 | Scenario 3| 10.74 km |"
   ]
  },
  {
   "cell_type": "markdown",
   "metadata": {},
   "source": [
    "| File                   | Description                                                                                       |\n",
    "|------------------------|---------------------------------------------------------------------------------------------------|\n",
    "| dataset_gps.csv        | GPS data, including latitude, longitude, altitude, speed, accuracy, etc.                         |\n",
    "| dataset_gps_mpu_left.csv  | Inertial sensor data on the left side of the vehicle, combined with GPS data.                     |\n",
    "| dataset_gps_mpu_right.csv | Inertial sensor data on the right side of the vehicle, combined with GPS data.                    |\n",
    "| dataset_labels.csv       | Data classes for each sample data in the dataset (for both sides).                                  |\n",
    "| dataset_mpu_left.csv     | Inertial sensor data on the left side of the vehicle.                                              |\n",
    "| dataset_mpu_right.csv    | Inertial sensor data on the right side of the vehicle.                                             |"
   ]
  },
  {
   "cell_type": "markdown",
   "metadata": {},
   "source": [
    "![Map of paths](./maps.png \"All paths driven by the three drivers.\")\n"
   ]
  },
  {
   "cell_type": "code",
   "execution_count": 2,
   "metadata": {},
   "outputs": [
    {
     "name": "stdout",
     "output_type": "stream",
     "text": [
      "cleaned train PVS 1\n",
      "cleaned train PVS 2\n",
      "cleaned train PVS 3\n",
      "cleaned train PVS 4\n",
      "cleaned train PVS 5\n",
      "cleaned train PVS 6\n",
      "cleaned train PVS 7\n",
      "cleaned train PVS 8\n",
      "cleaned train PVS 9\n",
      "cleaned train gps_mpu_left PVS 1\n",
      "cleaned train gps_mpu_left PVS 2\n",
      "cleaned train gps_mpu_left PVS 3\n",
      "cleaned train gps_mpu_left PVS 4\n",
      "cleaned train gps_mpu_left PVS 5\n",
      "cleaned train gps_mpu_left PVS 6\n",
      "cleaned train gps_mpu_left PVS 7\n",
      "cleaned train gps_mpu_left PVS 8\n",
      "cleaned train gps_mpu_left PVS 9\n",
      "cleaned train gps_mpu_right PVS 1\n",
      "cleaned train gps_mpu_right PVS 2\n",
      "cleaned train gps_mpu_right PVS 3\n",
      "cleaned train gps_mpu_right PVS 4\n",
      "cleaned train gps_mpu_right PVS 5\n",
      "cleaned train gps_mpu_right PVS 6\n",
      "cleaned train gps_mpu_right PVS 7\n",
      "cleaned train gps_mpu_right PVS 8\n",
      "cleaned train gps_mpu_right PVS 9\n"
     ]
    }
   ],
   "source": [
    "data_dict = cleaner.clean_dict(cleaner.load_data())"
   ]
  },
  {
   "cell_type": "code",
   "execution_count": 3,
   "metadata": {},
   "outputs": [
    {
     "name": "stdout",
     "output_type": "stream",
     "text": [
      "\n",
      "  train: \n",
      " \t t_gps: \n",
      " \t\t PVS 1: (1458, 11)\n",
      " \t\t PVS 2: (1551, 11)\n",
      " \t\t PVS 3: (1316, 11)\n",
      " \t\t PVS 4: (1432, 11)\n",
      " \t\t PVS 5: (1263, 11)\n",
      " \t\t PVS 6: (915, 11)\n",
      " \t\t PVS 7: (1281, 11)\n",
      " \t\t PVS 8: (1134, 11)\n",
      " \t\t PVS 9: (999, 11)\n",
      " \t gps_mpu_left: \n",
      " \t\t PVS 1: (144036, 26)\n",
      " \t\t PVS 2: (124684, 26)\n",
      " \t\t PVS 3: (105816, 26)\n",
      " \t\t PVS 4: (132492, 26)\n",
      " \t\t PVS 5: (133877, 26)\n",
      " \t\t PVS 6: (96279, 26)\n",
      " \t\t PVS 7: (128548, 26)\n",
      " \t\t PVS 8: (123618, 26)\n",
      " \t\t PVS 9: (91555, 26)\n",
      " \t gps_mpu_right: \n",
      " \t\t PVS 1: (144036, 26)\n",
      " \t\t PVS 2: (124684, 26)\n",
      " \t\t PVS 3: (105816, 26)\n",
      " \t\t PVS 4: (132492, 26)\n",
      " \t\t PVS 5: (133877, 26)\n",
      " \t\t PVS 6: (96279, 26)\n",
      " \t\t PVS 7: (128548, 26)\n",
      " \t\t PVS 8: (123618, 26)\n",
      " \t\t PVS 9: (91555, 26)\n",
      " \t labels: \n",
      " \t\t PVS 1: (144036, 14)\n",
      " \t\t PVS 2: (124684, 14)\n",
      " \t\t PVS 3: (105816, 14)\n",
      " \t\t PVS 4: (132492, 14)\n",
      " \t\t PVS 5: (133877, 14)\n",
      " \t\t PVS 6: (96279, 14)\n",
      " \t\t PVS 7: (128548, 14)\n",
      " \t\t PVS 8: (123618, 14)\n",
      " \t\t PVS 9: (91555, 14)\n",
      " \t folders: 9\n",
      "  val: \n",
      " \t t_gps: <class 'NoneType'>\n",
      " \t gps_mpu_left: <class 'NoneType'>\n",
      " \t gps_mpu_right: <class 'NoneType'>\n",
      " \t labels: <class 'NoneType'>\n",
      " \t folders: 0\n",
      "  test: \n",
      " \t t_gps: <class 'NoneType'>\n",
      " \t gps_mpu_left: <class 'NoneType'>\n",
      " \t gps_mpu_right: <class 'NoneType'>\n",
      " \t labels: <class 'NoneType'>\n",
      " \t folders: 0"
     ]
    }
   ],
   "source": [
    "cleaner.print_structure(data_dict)"
   ]
  },
  {
   "cell_type": "code",
   "execution_count": null,
   "metadata": {},
   "outputs": [],
   "source": [
    "filter.add_smoothed_cols(data_dict)"
   ]
  },
  {
   "cell_type": "code",
   "execution_count": 7,
   "metadata": {},
   "outputs": [],
   "source": [
    "start = 67000\n",
    "end = 70000\n",
    "\n",
    "test_right = data_dict[\"train\"][\"gps_mpu_right\"][\"PVS 1\"]\n",
    "test_left = data_dict[\"train\"][\"gps_mpu_left\"][\"PVS 1\"]\n",
    "test_gps = data_dict[\"train\"][\"t_gps\"][\"PVS 1\"]\n",
    "test_labels = data_dict[\"train\"][\"labels\"][\"PVS 1\"]"
   ]
  },
  {
   "cell_type": "markdown",
   "metadata": {},
   "source": [
    "# HMM"
   ]
  },
  {
   "cell_type": "code",
   "execution_count": null,
   "metadata": {},
   "outputs": [],
   "source": [
    "from hmmlearn import hmm\n",
    "\n",
    "obs = test_right[start:end]\n",
    "\n",
    "h = hmm.CategoricalHMM(n_components=2, \n",
    "                       n_features=len(set(obs)), \n",
    "                       n_iter=200, \n",
    "                       tol=1e-4)\n",
    "h.fit(obs.reshape(-1,1))\n",
    "\n",
    "pi = h.startprob_\n",
    "A = h.transmat_.T\n",
    "B = h.emissionprob_.T"
   ]
  }
 ],
 "metadata": {
  "kernelspec": {
   "display_name": "Python 3",
   "language": "python",
   "name": "python3"
  },
  "language_info": {
   "codemirror_mode": {
    "name": "ipython",
    "version": 3
   },
   "file_extension": ".py",
   "mimetype": "text/x-python",
   "name": "python",
   "nbconvert_exporter": "python",
   "pygments_lexer": "ipython3",
   "version": "3.9.7"
  }
 },
 "nbformat": 4,
 "nbformat_minor": 2
}
