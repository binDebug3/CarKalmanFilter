{
 "cells": [
  {
   "cell_type": "code",
   "execution_count": 53,
   "metadata": {},
   "outputs": [],
   "source": [
    "# imports\n",
    "from matplotlib import pyplot as plt\n",
    "import numpy as np\n",
    "import pandas as pd\n",
    "import os\n",
    "from matplotlib.animation import FuncAnimation\n",
    "\n",
    "import cleaner\n",
    "import filter"
   ]
  },
  {
   "cell_type": "code",
   "execution_count": 2,
   "metadata": {},
   "outputs": [],
   "source": [
    "def clean_dict(ddict, verbose=False):\n",
    "    for train_type in ddict:\n",
    "        if \"left\" in train_type or \"right\" in train_type:\n",
    "            for folder in ddict[train_type]:\n",
    "                ddict[train_type][folder] = cleaner.clean_acc(ddict[train_type][folder])\n",
    "                if verbose:\n",
    "                    print(\"cleaned\", train_type, folder)\n",
    "        elif \"t_gps\" in train_type:\n",
    "            for folder in ddict[train_type]:\n",
    "                ddict[train_type][folder] = cleaner.clean_gps(ddict[train_type][folder])\n",
    "                if verbose:\n",
    "                    print(\"cleaned\", train_type, folder)\n",
    "    return ddict"
   ]
  },
  {
   "cell_type": "code",
   "execution_count": null,
   "metadata": {},
   "outputs": [],
   "source": [
    "data_dict = clean_dict(cleaner.load_data())"
   ]
  },
  {
   "cell_type": "code",
   "execution_count": 34,
   "metadata": {},
   "outputs": [
    {
     "name": "stdout",
     "output_type": "stream",
     "text": [
      " train\n",
      "\t t_gps\n",
      "\t\t PVS 1\n",
      "\t\t PVS 2\n",
      "\t\t PVS 3\n",
      "\t\t PVS 4\n",
      "\t\t PVS 5\n",
      "\t\t PVS 6\n",
      "\t\t PVS 7\n",
      "\t\t PVS 8\n",
      "\t\t PVS 9\n",
      "\t gps_mpu_left\n",
      "\t\t PVS 1\n",
      "\t\t PVS 2\n",
      "\t\t PVS 3\n",
      "\t\t PVS 4\n",
      "\t\t PVS 5\n",
      "\t\t PVS 6\n",
      "\t\t PVS 7\n",
      "\t\t PVS 8\n",
      "\t\t PVS 9\n",
      "\t gps_mpu_right\n",
      "\t\t PVS 1\n",
      "\t\t PVS 2\n",
      "\t\t PVS 3\n",
      "\t\t PVS 4\n",
      "\t\t PVS 5\n",
      "\t\t PVS 6\n",
      "\t\t PVS 7\n",
      "\t\t PVS 8\n",
      "\t\t PVS 9\n",
      "\t labels\n",
      "\t\t PVS 1\n",
      "\t\t PVS 2\n",
      "\t\t PVS 3\n",
      "\t\t PVS 4\n",
      "\t\t PVS 5\n",
      "\t\t PVS 6\n",
      "\t\t PVS 7\n",
      "\t\t PVS 8\n",
      "\t\t PVS 9\n",
      "\t folders\n",
      " val\n",
      "\t t_gps\n",
      "\t gps_mpu_left\n",
      "\t gps_mpu_right\n",
      "\t labels\n",
      "\t folders\n",
      " test\n",
      "\t t_gps\n",
      "\t gps_mpu_left\n",
      "\t gps_mpu_right\n",
      "\t labels\n",
      "\t folders\n"
     ]
    }
   ],
   "source": [
    "cleaner.print_structure(data_dict)"
   ]
  },
  {
   "cell_type": "code",
   "execution_count": 56,
   "metadata": {},
   "outputs": [
    {
     "ename": "NameError",
     "evalue": "name 'HTML' is not defined",
     "output_type": "error",
     "traceback": [
      "\u001b[1;31m---------------------------------------------------------------------------\u001b[0m",
      "\u001b[1;31mNameError\u001b[0m                                 Traceback (most recent call last)",
      "Cell \u001b[1;32mIn[56], line 60\u001b[0m\n\u001b[0;32m     53\u001b[0m     HTML(ani\u001b[38;5;241m.\u001b[39mto_html5_video())\n\u001b[0;32m     57\u001b[0m acc \u001b[38;5;241m=\u001b[39m data_dict[\u001b[38;5;124m\"\u001b[39m\u001b[38;5;124mtrain\u001b[39m\u001b[38;5;124m\"\u001b[39m][\u001b[38;5;124m\"\u001b[39m\u001b[38;5;124mgps_mpu_left\u001b[39m\u001b[38;5;124m\"\u001b[39m][\u001b[38;5;124m\"\u001b[39m\u001b[38;5;124mPVS 1\u001b[39m\u001b[38;5;124m\"\u001b[39m][\u001b[38;5;124m\"\u001b[39m\u001b[38;5;124macc_x_dashboard\u001b[39m\u001b[38;5;124m\"\u001b[39m]\n\u001b[1;32m---> 60\u001b[0m \u001b[43manimate\u001b[49m\u001b[43m(\u001b[49m\u001b[43macc\u001b[49m\u001b[43m,\u001b[49m\u001b[43m \u001b[49m\u001b[43mtitle\u001b[49m\u001b[38;5;241;43m=\u001b[39;49m\u001b[38;5;124;43m\"\u001b[39;49m\u001b[38;5;124;43mpvs1_acc_xd.mp4\u001b[39;49m\u001b[38;5;124;43m\"\u001b[39;49m\u001b[43m)\u001b[49m\n",
      "Cell \u001b[1;32mIn[56], line 53\u001b[0m, in \u001b[0;36manimate\u001b[1;34m(data, sample_rate, window_size, start, end, speed, title)\u001b[0m\n\u001b[0;32m     51\u001b[0m ani \u001b[38;5;241m=\u001b[39m FuncAnimation(fig, update, frames\u001b[38;5;241m=\u001b[39mframes, init_func\u001b[38;5;241m=\u001b[39minit, blit\u001b[38;5;241m=\u001b[39m\u001b[38;5;28;01mTrue\u001b[39;00m)\n\u001b[0;32m     52\u001b[0m ani\u001b[38;5;241m.\u001b[39msave(title)\n\u001b[1;32m---> 53\u001b[0m \u001b[43mHTML\u001b[49m(ani\u001b[38;5;241m.\u001b[39mto_html5_video())\n",
      "\u001b[1;31mNameError\u001b[0m: name 'HTML' is not defined"
     ]
    },
    {
     "data": {
      "image/png": "[encoded data removed]",
      "text/plain": [
       "<Figure size 640x480 with 1 Axes>"
      ]
     },
     "metadata": {},
     "output_type": "display_data"
    }
   ],
   "source": [
    "def animate(data,  title=\"data.mp4\", sample_rate=1, window_size=1000, start=0, end=None, speed=1):\n",
    "    \"\"\"\n",
    "    Create an animation scrolling through the data.\n",
    "\n",
    "    Parameters\n",
    "    ----------\n",
    "    data : dict\n",
    "        The data to scroll through.\n",
    "    title : str, optional\n",
    "        The title of the animation. The default is \"data\".\n",
    "    sample_rate : int, optional\n",
    "        The sample rate of the data. The default is 1.\n",
    "    window_size : int, optional\n",
    "        The size of the window to display. The default is 1000.\n",
    "    start : int, optional\n",
    "        The start index of the window. The default is 0.\n",
    "    end : int, optional\n",
    "        The end index of the window. The default is None.\n",
    "    speed : int, optional\n",
    "        The speed of the animation. The default is 1.\n",
    "    \"\"\"\n",
    "    # error handling\n",
    "    if end is None or len(data) < end < start or end < 0:\n",
    "        end = len(data)\n",
    "    if start < 0:\n",
    "        start = 0\n",
    "    if window_size < 100:\n",
    "        window_size = 100\n",
    "    if speed < 1:\n",
    "        speed = 1\n",
    "    if sample_rate < 1:\n",
    "        sample_rate = 1\n",
    "    \n",
    "    # create the animation\n",
    "    fig, ax = plt.subplots()\n",
    "    ax.set_xlim(start, start + window_size)\n",
    "    ax.set_ylim(min(data)*09.5, max(data)*1.05)\n",
    "    line, = ax.plot([], [], lw=2)\n",
    "\n",
    "    def init():\n",
    "        line.set_data([], [])\n",
    "        return line,\n",
    "\n",
    "    def update(frame):\n",
    "        x = np.arange(start + frame * speed, start + frame * speed + window_size)\n",
    "        y = data[x]\n",
    "        line.set_data(x, y)\n",
    "        return line,\n",
    "\n",
    "    frames = int((end - start - window_size) / speed)\n",
    "    ani = FuncAnimation(fig, update, frames=frames, init_func=init, blit=True)\n",
    "    ani.save(title)\n",
    "    HTML(ani.to_html5_video())\n",
    "\n",
    "# animate the acceleration\n",
    "acc = data_dict[\"train\"][\"gps_mpu_left\"][\"PVS 1\"][\"acc_x_dashboard\"]\n",
    "animate(acc, title=\"pvs1_acc_xd.mp4\")"
   ]
  }
 ],
 "metadata": {
  "kernelspec": {
   "display_name": "Python 3",
   "language": "python",
   "name": "python3"
  },
  "language_info": {
   "codemirror_mode": {
    "name": "ipython",
    "version": 3
   },
   "file_extension": ".py",
   "mimetype": "text/x-python",
   "name": "python",
   "nbconvert_exporter": "python",
   "pygments_lexer": "ipython3",
   "version": "3.9.7"
  }
 },
 "nbformat": 4,
 "nbformat_minor": 2
}
